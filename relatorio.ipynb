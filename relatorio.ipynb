{
 "cells": [
  {
   "cell_type": "code",
   "execution_count": 2,
   "metadata": {},
   "outputs": [
    {
     "name": "stdout",
     "output_type": "stream",
     "text": [
      "<class 'pandas.core.frame.DataFrame'>\n",
      "RangeIndex: 116945 entries, 0 to 116944\n",
      "Data columns (total 12 columns):\n",
      " #   Column                                                               Non-Null Count   Dtype \n",
      "---  ------                                                               --------------   ----- \n",
      " 0   Agente  Causador  Acidente;Data Acidente;CBO;CBO_1;CID-10;CID-10     116945 non-null  object\n",
      " 1   _2;CNAE2                                                             116945 non-null  object\n",
      " 2   .0 Empregador;CNAE2.0 Empregador_3;Emitente CAT;Espécie              116945 non-null  object\n",
      " 3   do benefício;Filiação                                                116945 non-null  object\n",
      " 4   Segurado;Indica                                                      116945 non-null  object\n",
      " 5   acidente;Munic                                                       116945 non-null  object\n",
      " 6   Empr;Natureza da Lesão;Origem de Cadastramento CAT;Parte Corpo Atin  116945 non-null  object\n",
      " 7   gida;Sexo;Tipo do Acidente;UF  Munic.  Acidente;UF                   116945 non-null  object\n",
      " 8   Munic. Empregad                                                      116945 non-null  object\n",
      " 9   or;Data  Afastamento;Data                                            116945 non-null  object\n",
      " 10  Despacho Benefício;Data                                              116945 non-null  object\n",
      " 11  Acidente_4;Data Nascimento;Data Emissão CAT                          116945 non-null  object\n",
      "dtypes: object(12)\n",
      "memory usage: 10.7+ MB\n"
     ]
    }
   ],
   "source": [
    "import numpy as np\n",
    "import pandas as pd\n",
    "import matplotlib.pyplot as plt\n",
    "import seaborn as sns\n",
    "\n",
    "dados = pd.read_excel(\"acidentes.xlsx\")\n",
    "\n",
    "dados.info()"
   ]
  }
 ],
 "metadata": {
  "kernelspec": {
   "display_name": "Python 3",
   "language": "python",
   "name": "python3"
  },
  "language_info": {
   "codemirror_mode": {
    "name": "ipython",
    "version": 3
   },
   "file_extension": ".py",
   "mimetype": "text/x-python",
   "name": "python",
   "nbconvert_exporter": "python",
   "pygments_lexer": "ipython3",
   "version": "3.12.3"
  }
 },
 "nbformat": 4,
 "nbformat_minor": 2
}
